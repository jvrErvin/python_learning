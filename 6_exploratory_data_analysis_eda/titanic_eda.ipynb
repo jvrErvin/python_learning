{
 "cells": [
  {
   "cell_type": "markdown",
   "metadata": {},
   "source": [
    "# Exploratory data analysis\n",
    "\n",
    "Your task is to explore the dataset.\n",
    "\n",
    "Help for the columns:\n",
    " - `SibSp` - number of sibling/spouses on the ship\n",
    " - `Parch` - number of parent/children on the ship\n",
    " - `Cabin` - the cabin they slept in (if they had a cabin)\n",
    " - `Embarked` - harbour of entering the ship\n",
    " - `Pclass` - passenger class (like on trains)\n",
    "\n",
    "\n",
    "\n",
    "#### 1. Load the above-linked csv file as a pandas dataframe. Check & plot if any of the columns has missing values. If they have, investigate if the missingness is random or not. \n",
    "Impute the missing values in a sensible way:\n",
    " - if only a very small percentage is missing, imputing with the column-wise mean makes sense, or also removing the missing rows makes sense\n",
    " - if in a row almost all the entries is missing, it worth to remove that given row\n",
    " - if a larger portion is missing from a column, usually it worth to encode that with a value that does not appear in the dataset (eg: -1). \n",
    " \n",
    "The imputing method affects different machine learning models different way, but now we are interested only in EDA, so try to keep as much information as possible!\n",
    "\n",
    "\n",
    "\n",
    "#### 2. Create a heatmap which shows how many people survived and dies with the different Pclass variables. You need to create a table where the columns indicates if a person survived or not, the rows indicates the different Pclass and the cell values contains the number of people belonging the that given category. The table should be colored based on the value of the cells in the table.\n",
    "\n",
    "\n",
    "\n",
    "#### 3. Create boxplots for each different Pclass. The boxplot should show the age distribution for the given Pclass. Plot all of these next to each other in a row to make it easier to compare!\n",
    "\n",
    "\n",
    "\n",
    "#### 4. Calculate the correlation matrix for the numerical columns. Show it also as a heatmap described at the 1st task.\n",
    "\n",
    "Which feature seems to play the most important role in surviving/not surviving? Explain how and why could that feature be important! \n",
    "\n",
    "\n",
    "\n",
    "#### 5. Create two plots which you think are meaningful. Interpret both of them. (Eg.: older people buy more expensive ticket? people buying more expensive ticket survive more? etc.)\n",
    "\n",
    "--------------\n"
   ]
  },
  {
   "cell_type": "code",
   "execution_count": 1,
   "metadata": {},
   "outputs": [
    {
     "name": "stderr",
     "output_type": "stream",
     "text": [
      "/var/folders/5g/36hs0gks0tl5nd9fxzt4sxdr0000gn/T/ipykernel_84072/2080034654.py:2: DeprecationWarning: \n",
      "Pyarrow will become a required dependency of pandas in the next major release of pandas (pandas 3.0),\n",
      "(to allow more performant data types, such as the Arrow string type, and better interoperability with other libraries)\n",
      "but was not found to be installed on your system.\n",
      "If this would cause problems for you,\n",
      "please provide us feedback at https://github.com/pandas-dev/pandas/issues/54466\n",
      "        \n",
      "  import pandas as pd\n"
     ]
    }
   ],
   "source": [
    "import numpy as np\n",
    "import pandas as pd\n",
    "import matplotlib.pyplot as plt"
   ]
  }
 ],
 "metadata": {
  "kernelspec": {
   "display_name": "ervin",
   "language": "python",
   "name": "python3"
  },
  "language_info": {
   "codemirror_mode": {
    "name": "ipython",
    "version": 3
   },
   "file_extension": ".py",
   "mimetype": "text/x-python",
   "name": "python",
   "nbconvert_exporter": "python",
   "pygments_lexer": "ipython3",
   "version": "3.10.13"
  }
 },
 "nbformat": 4,
 "nbformat_minor": 2
}
