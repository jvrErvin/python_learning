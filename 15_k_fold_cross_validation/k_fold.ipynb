{
 "cells": [
  {
   "cell_type": "markdown",
   "metadata": {},
   "source": [
    "# K-Fold Cross Validation\n",
    "\n",
    "- https://www.youtube.com/watch?v=kituDjzXwfE\n",
    "\n",
    "K-Fold Cross-Validation is a powerful technique for assessing the performance of a machine learning model. It involves splitting the dataset into k subsets (folds) and training the model k times, each time using a different fold as the validation set and the remaining k-1 folds as the training set. The performance metric is averaged across all k trials to get a more robust estimate of the model's performance.\n",
    "\n",
    "K-Fold Cross-Validation is a resampling procedure used to evaluate machine learning models on a limited data sample. The procedure has a single parameter, k, that refers to the number of groups that a given data sample is to be split into.\n",
    "\n",
    "The process is as follows:\n",
    "1. Shuffle the dataset randomly.\n",
    "2. Split the dataset into k groups.\n",
    "3. For each unique group:\n",
    "- Take the group as a holdout or test data set.\n",
    "- Take the remaining groups as a training data set.\n",
    "- Fit a model on the training set and evaluate it on the test set.\n",
    "- Retain the evaluation score and discard the model.\n",
    "4. Summarize the skill of the model using the sample of model evaluation scores.\n",
    "\n",
    "![](kfold.png)"
   ]
  },
  {
   "cell_type": "code",
   "execution_count": 12,
   "metadata": {},
   "outputs": [],
   "source": [
    "from sklearn.datasets import load_iris\n",
    "from sklearn.ensemble import RandomForestClassifier\n",
    "from sklearn.svm import SVC\n",
    "from sklearn.tree import DecisionTreeClassifier\n",
    "from sklearn.gaussian_process import GaussianProcessClassifier\n",
    "from sklearn.model_selection import cross_val_score, KFold\n",
    "import numpy as np\n",
    "import matplotlib.pyplot as plt\n",
    "import seaborn as sns"
   ]
  },
  {
   "cell_type": "code",
   "execution_count": 2,
   "metadata": {},
   "outputs": [
    {
     "data": {
      "text/plain": [
       "((150, 4), (150,))"
      ]
     },
     "execution_count": 2,
     "metadata": {},
     "output_type": "execute_result"
    }
   ],
   "source": [
    "# Load the dataset\n",
    "iris = load_iris()\n",
    "X = iris.data\n",
    "y = iris.target\n",
    "\n",
    "X.shape, y.shape"
   ]
  },
  {
   "cell_type": "code",
   "execution_count": 15,
   "metadata": {},
   "outputs": [],
   "source": [
    "# Create the Random Forest model\n",
    "rf_clf = RandomForestClassifier(n_estimators=100, random_state=42)\n",
    "svc_clf = SVC()\n",
    "dt_clf = DecisionTreeClassifier()\n",
    "gp_clf = GaussianProcessClassifier()"
   ]
  },
  {
   "cell_type": "code",
   "execution_count": 16,
   "metadata": {},
   "outputs": [],
   "source": [
    "# Define the K-Fold Cross-Validation\n",
    "# shuffle=True parameter ensures that the data is shuffled before splitting into folds\n",
    "kf = KFold(n_splits=5, shuffle=True, random_state=42)"
   ]
  },
  {
   "cell_type": "code",
   "execution_count": 19,
   "metadata": {},
   "outputs": [],
   "source": [
    "# Perform K-Fold Cross-Validation\n",
    "# cv_scores array contains the accuracy scores for each fold\n",
    "cv_scores_rf = cross_val_score(rf_clf, X, y, cv=kf)\n",
    "cv_scores_svc = cross_val_score(svc_clf, X, y, cv=kf)\n",
    "cv_scores_dt = cross_val_score(dt_clf, X, y, cv=kf)\n",
    "cv_scores_gp = cross_val_score(gp_clf, X, y, cv=kf)\n",
    "\n",
    "cv_scores_modelnames = {\"rf\": cv_scores_rf, \"svc\": cv_scores_svc, \"dt\": cv_scores_dt, \"gp\": cv_scores_gp}"
   ]
  },
  {
   "cell_type": "code",
   "execution_count": 21,
   "metadata": {},
   "outputs": [
    {
     "name": "stdout",
     "output_type": "stream",
     "text": [
      "rf Cross-Validation Scores: [1.         0.96666667 0.93333333 0.93333333 0.96666667]\n",
      "rf Mean CV Score: 0.96\n",
      "rf Standard Deviation of CV Scores: 0.02\n",
      "\n",
      "svc Cross-Validation Scores: [1.         1.         0.93333333 0.93333333 0.96666667]\n",
      "svc Mean CV Score: 0.97\n",
      "svc Standard Deviation of CV Scores: 0.03\n",
      "\n",
      "dt Cross-Validation Scores: [1.         0.96666667 0.93333333 0.93333333 0.93333333]\n",
      "dt Mean CV Score: 0.95\n",
      "dt Standard Deviation of CV Scores: 0.03\n",
      "\n",
      "gp Cross-Validation Scores: [1.         1.         0.93333333 0.96666667 0.96666667]\n",
      "gp Mean CV Score: 0.97\n",
      "gp Standard Deviation of CV Scores: 0.02\n",
      "\n"
     ]
    }
   ],
   "source": [
    "# Print the results\n",
    "for key, value in cv_scores_modelnames.items():\n",
    "    print(f'{key} Cross-Validation Scores: {value}')\n",
    "    print(f'{key} Mean CV Score: {np.mean(value):.2f}')\n",
    "    print(f'{key} Standard Deviation of CV Scores: {np.std(value):.2f}\\n')"
   ]
  }
 ],
 "metadata": {
  "kernelspec": {
   "display_name": "playground",
   "language": "python",
   "name": "python3"
  },
  "language_info": {
   "codemirror_mode": {
    "name": "ipython",
    "version": 3
   },
   "file_extension": ".py",
   "mimetype": "text/x-python",
   "name": "python",
   "nbconvert_exporter": "python",
   "pygments_lexer": "ipython3",
   "version": "3.10.14"
  }
 },
 "nbformat": 4,
 "nbformat_minor": 2
}
