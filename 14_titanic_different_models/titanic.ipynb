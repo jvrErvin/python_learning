{
 "cells": [
  {
   "cell_type": "markdown",
   "metadata": {},
   "source": [
    "Goal:\n",
    "- train a classifier to predict if a passenger survives or not the titanic\n",
    "  \n",
    "Tasks:\n",
    "- load the titanic.csv file into a DataFrame\n",
    "- drop the irrelevant columns (`PassengerId`, `Name`, `Ticket`, `Cabin`) \n",
    "  - hint: `df.drop()` or `df.pop()`\n",
    "- drop the rows with nan values (`df.shape` should return `(712, 8)` at this point)\n",
    "  - hint: `df.dropna()`\n",
    "- extract `y` target values (what you want to predict) from the DataFrame\n",
    "  - hint: `y = df.pop().to_list()`\n",
    "  - hint: `df.shape` should return `(712, 7)` at this point\n",
    "- Problem: if you take a look at `df.head()`, you will see that `Sex` and `Embarked` colums are not numeric, they are `string`s. However, in order to build a classifier, we need the features to be numbers. Accordingly, they must be converted to numbers somehow: this is called `Encoding`. There are different approaches for this, `Label Encoding` and `One-Hot Encoding (OHE)`. If there is an order between the values, you should use `Label Encoding`. However, since there is no natural order in `Sex` and `Embarked` columns, you must use `OHE`. Google `OHE`!\n",
    "  - df_encoded = pd.get_dummies(df, columns=['Sex', 'Embarked']) --> This will result in boolean values, convert them to integers\n",
    "  - df_encoded['Sex_female'] = df_encoded['Sex_female'].astype(int) --> Repeat this for the other encoded columns as well\n",
    "  - drop the original `Sex` and `Embarked` columns\n",
    "  - `X = df_encoded.to_numpy()`\n",
    "- Create train/test split with `train_test_split()`\n",
    "  - hint: `from sklearn.model_selection import train_test_split`\n",
    "- Create and train (fit) a decision tree classifier and a random forest classifier with the training data you created in the previous step\n",
    "- predict and measure accuracy on the test set (`from sklearn.metrics import accuracy_score`)\n",
    "\n",
    "  ```"
   ]
  },
  {
   "cell_type": "code",
   "execution_count": 31,
   "metadata": {},
   "outputs": [],
   "source": [
    "# Good luck :)\n"
   ]
  }
 ],
 "metadata": {
  "kernelspec": {
   "display_name": "playground",
   "language": "python",
   "name": "python3"
  },
  "language_info": {
   "codemirror_mode": {
    "name": "ipython",
    "version": 3
   },
   "file_extension": ".py",
   "mimetype": "text/x-python",
   "name": "python",
   "nbconvert_exporter": "python",
   "pygments_lexer": "ipython3",
   "version": "3.10.14"
  }
 },
 "nbformat": 4,
 "nbformat_minor": 2
}
