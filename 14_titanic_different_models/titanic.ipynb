{
 "cells": [
  {
   "cell_type": "markdown",
   "metadata": {},
   "source": [
    "Goal:\n",
    "- train a classifier to predict if a passenger survives or not the titanic\n",
    "  \n",
    "Tasks:\n",
    "- load the titanic.csv file into a DataFrame\n",
    "- drop the irrelevant columns (`PassengerId`, `Name`, `Ticket`, `Cabin`) \n",
    "  - hint: `df.drop()` or `df.pop()`\n",
    "- drop the rows with nan values (`df.shape` should return `(712, 8)` at this point)\n",
    "  - hint: `df.dropna()`\n",
    "- extract `y` target values (what you want to predict) from the DataFrame\n",
    "  - hint: `y = df.pop().to_list()`\n",
    "  - hint: `df.shape` should return `(712, 7)` at this point\n",
    "- Problem: if you take a look at `df.head()`, you will see that `Sex` and `Embarked` colums are not numeric, they are `string`s. However, in order to build a classifier, we need the features to be numbers. Accordingly, they must be converted to numbers somehow: this is called `Encoding`. There are different approaches for this, `Label Encoding` and `One-Hot Encoding (OHE)`. If there is an order between the values, you should use `Label Encoding`. However, since there is no natural order in `Sex` and `Embarked` columns, you must use `OHE`. Google `OHE`!\n",
    "  - df_encoded = pd.get_dummies(df, columns=['Sex', 'Embarked']) --> This will result in boolean values, convert them to integers\n",
    "  - df_encoded['Sex_female'] = df_encoded['Sex_female'].astype(int) --> Repeat this for the other encoded columns as well\n",
    "  - drop the original `Sex` and `Embarked` columns\n",
    "  - `X = df_encoded.to_numpy()`\n",
    "- Create train/test split with `train_test_split()`\n",
    "  - hint: `from sklearn.model_selection import train_test_split`\n",
    "- Create and train (fit) a decision tree classifier and a random forest classifier with the training data you created in the previous step\n",
    "- predict and measure accuracy on the test set (`from sklearn.metrics import accuracy_score`)\n",
    "\n",
    "  ```"
   ]
  },
  {
   "cell_type": "code",
   "execution_count": null,
   "metadata": {},
   "outputs": [],
   "source": [
    "# Good luck :)\n",
    "#TODO Does the cabin matter?"
   ]
  },
  {
   "cell_type": "code",
   "execution_count": 29,
   "metadata": {},
   "outputs": [],
   "source": [
    "import pandas as pd\n",
    "import numpy as np\n",
    "\n",
    "from sklearn.tree import DecisionTreeClassifier\n",
    "from sklearn.ensemble import RandomForestClassifier\n",
    "from sklearn.metrics import accuracy_score\n",
    "from sklearn.model_selection import train_test_split"
   ]
  },
  {
   "cell_type": "code",
   "execution_count": 71,
   "metadata": {},
   "outputs": [],
   "source": [
    "df = pd.read_csv(\"titanic.csv\")\n",
    "df.drop([\"PassengerId\", \"Name\", \"Ticket\", \"Cabin\"], axis = 1, inplace = True)\n",
    "df.dropna(inplace = True)"
   ]
  },
  {
   "cell_type": "code",
   "execution_count": 72,
   "metadata": {},
   "outputs": [],
   "source": [
    "# Using OHE to change the datatypes to int\n",
    "df = pd.get_dummies(df, columns = [\"Sex\", \"Embarked\"])\n",
    "\n",
    "df[\"Sex_female\"] = df[\"Sex_female\"].astype(int)\n",
    "df[\"Sex_male\"] = df[\"Sex_male\"].astype(int)\n",
    "df[\"Embarked_C\"] = df[\"Embarked_C\"].astype(int)\n",
    "df[\"Embarked_Q\"] = df[\"Embarked_Q\"].astype(int)\n",
    "df[\"Embarked_S\"] = df[\"Embarked_S\"].astype(int)\n"
   ]
  },
  {
   "cell_type": "code",
   "execution_count": 104,
   "metadata": {},
   "outputs": [],
   "source": [
    "# y --> survived or not list\n",
    "y = df.pop(\"Survived\").to_list()"
   ]
  },
  {
   "cell_type": "code",
   "execution_count": 33,
   "metadata": {},
   "outputs": [
    {
     "data": {
      "text/plain": [
       "'x_train = df.values[::2]\\nx_test = df.values[1::2]\\ny_train = y[::2]\\ny_test = y[1::2]'"
      ]
     },
     "execution_count": 33,
     "metadata": {},
     "output_type": "execute_result"
    }
   ],
   "source": [
    "#create test and train datasets\n",
    "x_train, x_test, y_train, y_test = train_test_split(df, y, train_size = 0.5, random_state = 11)\n",
    "\"\"\"x_train = df.values[::2]\n",
    "x_test = df.values[1::2]\n",
    "y_train = y[::2]\n",
    "y_test = y[1::2]\"\"\""
   ]
  },
  {
   "cell_type": "code",
   "execution_count": 39,
   "metadata": {},
   "outputs": [
    {
     "name": "stdout",
     "output_type": "stream",
     "text": [
      "0.7162921348314607\n"
     ]
    }
   ],
   "source": [
    "# Decision Tree 50%\n",
    "\n",
    "# Train the classifier\n",
    "dt_clf = DecisionTreeClassifier()\n",
    "dt_clf = dt_clf.fit(x_train, y_train)\n",
    "\n",
    "# Test the classifier\n",
    "dt_y_pred = dt_clf.predict(x_test)\n",
    "dt_accuracy = accuracy_score(y_test, dt_y_pred)"
   ]
  },
  {
   "cell_type": "code",
   "execution_count": 40,
   "metadata": {},
   "outputs": [
    {
     "name": "stdout",
     "output_type": "stream",
     "text": [
      "0.7443820224719101\n"
     ]
    }
   ],
   "source": [
    "# Random Tree 50%\n",
    "\n",
    "# Train the classifier\n",
    "rt_clf = RandomForestClassifier()\n",
    "rt_clf = rt_clf.fit(x_train, y_train)\n",
    "\n",
    "# Test the classifier\n",
    "rt_y_pred = rt_clf.predict(x_test)\n",
    "rt_accuracy = accuracy_score(y_test, rt_y_pred)"
   ]
  },
  {
   "cell_type": "code",
   "execution_count": 53,
   "metadata": {},
   "outputs": [
    {
     "name": "stdout",
     "output_type": "stream",
     "text": [
      "The classifiers accuracy with 50-50 split on the data\n",
      "    Decision tree     : 0.72\n",
      "    Random tree       : 0.74\n"
     ]
    }
   ],
   "source": [
    "print(f\"The classifiers accuracy with 50-50 split on the data\\n    Decision tree     : {round(dt_accuracy,2)}\\n    Random tree       : {round(rt_accuracy, 2)}\")"
   ]
  },
  {
   "cell_type": "markdown",
   "metadata": {},
   "source": [
    "## Try it with 70% train and 30% test"
   ]
  },
  {
   "cell_type": "code",
   "execution_count": 55,
   "metadata": {},
   "outputs": [
    {
     "name": "stdout",
     "output_type": "stream",
     "text": [
      "(498, 10) (214, 10)\n"
     ]
    }
   ],
   "source": [
    "#create test and train datasets\n",
    "x70_train, x30_test, y70_train, y30_test = train_test_split(df, y, train_size = 0.7, random_state = 11)"
   ]
  },
  {
   "cell_type": "code",
   "execution_count": 56,
   "metadata": {},
   "outputs": [
    {
     "name": "stdout",
     "output_type": "stream",
     "text": [
      "0.7242990654205608\n"
     ]
    }
   ],
   "source": [
    "# Decision Tree 70%\n",
    "\n",
    "# Train the classifier\n",
    "dt70_clf = DecisionTreeClassifier()\n",
    "dt70_clf = dt70_clf.fit(x70_train, y70_train)\n",
    "\n",
    "# Test the classifier\n",
    "dt70_y_pred = dt70_clf.predict(x30_test)\n",
    "dt70_accuracy = accuracy_score(y30_test, dt70_y_pred)"
   ]
  },
  {
   "cell_type": "code",
   "execution_count": 57,
   "metadata": {},
   "outputs": [
    {
     "name": "stdout",
     "output_type": "stream",
     "text": [
      "0.7990654205607477\n"
     ]
    }
   ],
   "source": [
    "# Random Tree 70%\n",
    "\n",
    "# Train the classifier\n",
    "rt70_clf = RandomForestClassifier()\n",
    "rt70_clf = rt70_clf.fit(x70_train, y70_train)\n",
    "\n",
    "# Test the classifier\n",
    "rt70_y_pred = rt70_clf.predict(x30_test)\n",
    "rt70_accuracy = accuracy_score(y30_test, rt70_y_pred)"
   ]
  },
  {
   "cell_type": "code",
   "execution_count": 58,
   "metadata": {},
   "outputs": [
    {
     "name": "stdout",
     "output_type": "stream",
     "text": [
      "The classifiers accuracy with 70-30 split on the data\n",
      "    Decision tree     : 0.72\n",
      "    Random tree       : 0.8\n"
     ]
    }
   ],
   "source": [
    "print(f\"The classifiers accuracy with 70-30 split on the data\\n    Decision tree     : {round(dt70_accuracy,2)}\\n    Random tree       : {round(rt70_accuracy, 2)}\")"
   ]
  },
  {
   "cell_type": "markdown",
   "metadata": {},
   "source": [
    "## Conclusion\n",
    "- 70-30 split is more accurate\n",
    "- random tree model is more accurate"
   ]
  },
  {
   "cell_type": "markdown",
   "metadata": {},
   "source": [
    "Does the cabin matter?\n",
    "\n",
    "\"_c\" means cabin"
   ]
  },
  {
   "cell_type": "code",
   "execution_count": 113,
   "metadata": {},
   "outputs": [],
   "source": [
    "df_c = pd.read_csv(\"titanic.csv\")\n",
    "df_c.drop([\"PassengerId\", \"Name\", \"Ticket\"], axis = 1, inplace = True)\n",
    "df_c[\"Cabin\"] = df_c[\"Cabin\"].replace(to_replace = np.nan, value = \"on_board\")\n",
    "df_c.dropna(inplace = True)"
   ]
  },
  {
   "cell_type": "code",
   "execution_count": 114,
   "metadata": {},
   "outputs": [],
   "source": [
    "# Using OHE to change the datatypes to int\n",
    "df_c = pd.get_dummies(df_c, columns = [\"Sex\", \"Embarked\", \"Cabin\"])\n",
    "df_c_column_names = df_c.columns.to_list()\n",
    "for column in df_c_column_names:\n",
    "    df_c[column] = df_c[column].astype(int)"
   ]
  },
  {
   "cell_type": "code",
   "execution_count": 115,
   "metadata": {},
   "outputs": [],
   "source": [
    "# y --> survived or not list\n",
    "y_c = df_c.pop(\"Survived\").to_list()"
   ]
  },
  {
   "cell_type": "code",
   "execution_count": 116,
   "metadata": {},
   "outputs": [],
   "source": [
    "#create test and train datasets\n",
    "x70c_train, x30c_test, y70c_train, y30c_test = train_test_split(df_c, y_c, train_size = 0.7, random_state = 11)"
   ]
  },
  {
   "cell_type": "code",
   "execution_count": 117,
   "metadata": {},
   "outputs": [],
   "source": [
    "# Random Tree 70% with cabin\n",
    "\n",
    "# Train the classifier\n",
    "rt70c_clf = RandomForestClassifier()\n",
    "rt70c_clf = rt70c_clf.fit(x70c_train, y70c_train)\n",
    "\n",
    "# Test the classifier\n",
    "rt70c_y_pred = rt70c_clf.predict(x30c_test)\n",
    "rt70c_accuracy = accuracy_score(y30c_test, rt70c_y_pred)"
   ]
  },
  {
   "cell_type": "code",
   "execution_count": 119,
   "metadata": {},
   "outputs": [
    {
     "name": "stdout",
     "output_type": "stream",
     "text": [
      "The classifier accuracy included cabin with Random tree model is 0.79\n"
     ]
    }
   ],
   "source": [
    "print(f\"The classifier accuracy included cabin with Random tree model is {round(rt70c_accuracy, 2)}\")"
   ]
  }
 ],
 "metadata": {
  "kernelspec": {
   "display_name": "playground",
   "language": "python",
   "name": "python3"
  },
  "language_info": {
   "codemirror_mode": {
    "name": "ipython",
    "version": 3
   },
   "file_extension": ".py",
   "mimetype": "text/x-python",
   "name": "python",
   "nbconvert_exporter": "python",
   "pygments_lexer": "ipython3",
   "version": "3.10.13"
  }
 },
 "nbformat": 4,
 "nbformat_minor": 2
}
